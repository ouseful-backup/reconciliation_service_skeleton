{
 "cells": [
  {
   "cell_type": "code",
   "execution_count": 1,
   "metadata": {},
   "outputs": [
    {
     "name": "stdout",
     "output_type": "stream",
     "text": [
      "Collecting git+https://github.com/dbutlerdb/refine-client-py\n",
      "  Cloning https://github.com/dbutlerdb/refine-client-py to /tmp/pip-req-build-ni5lqjn4\n",
      "Collecting urllib2_file (from refine-client==0.2.1)\n",
      "  Downloading https://files.pythonhosted.org/packages/43/67/cca68d61ad171396549ce7c9749f6ff3e57cd448bd86e4c5362f53e99df4/urllib2_file-0.2.1.tar.gz\n",
      "Building wheels for collected packages: refine-client, urllib2-file\n",
      "  Running setup.py bdist_wheel for refine-client ... \u001b[?25ldone\n",
      "\u001b[?25h  Stored in directory: /tmp/pip-ephem-wheel-cache-c9ghvo49/wheels/48/2b/a9/37bfb2a63534edebd1add71702b0750b0fa0cc87cac2ceffaa\n",
      "  Running setup.py bdist_wheel for urllib2-file ... \u001b[?25ldone\n",
      "\u001b[?25h  Stored in directory: /home/jovyan/.cache/pip/wheels/86/7c/b6/b67c6083da277233fa7b7663da7791028049a341be5d75055a\n",
      "Successfully built refine-client urllib2-file\n",
      "Installing collected packages: urllib2-file, refine-client\n",
      "Successfully installed refine-client-0.2.1 urllib2-file-0.2.1\n"
     ]
    }
   ],
   "source": [
    "!pip install  git+https://github.com/dbutlerdb/refine-client-py"
   ]
  },
  {
   "cell_type": "code",
   "execution_count": 2,
   "metadata": {},
   "outputs": [],
   "source": [
    "from open.refine import refine\n",
    "\n",
    "#What is the distinction between these two?\n",
    "#Can we make use of it in a Jupyter context somehow?\n",
    "\n",
    "refine.REFINE_HOST='refine_container'\n",
    "refine.REFINE_PORT='3333'\n",
    "server = refine.RefineServer()\n",
    "orefine = refine.Refine(server)"
   ]
  },
  {
   "cell_type": "code",
   "execution_count": 3,
   "metadata": {},
   "outputs": [
    {
     "data": {
      "text/plain": [
       "{'defaultTypes': [{'id': '/people/person', 'name': 'Person'}],\n",
       " 'identifierSpace': 'http://rdf.freebase.com/ns/type.object.id',\n",
       " 'name': 'Person Reconciliation Service',\n",
       " 'schemaSpace': 'http://rdf.freebase.com/ns/type.object.id',\n",
       " 'view': {'url': 'http://127.0.0.1:8889{{id}}'}}"
      ]
     },
     "execution_count": 3,
     "metadata": {},
     "output_type": "execute_result"
    }
   ],
   "source": [
    "import requests\n",
    "requests.get('http://reconcile_container:5000/reconcile').json()"
   ]
  },
  {
   "cell_type": "code",
   "execution_count": 4,
   "metadata": {},
   "outputs": [
    {
     "data": {
      "text/plain": [
       "{'q1': {'result': [{'id': '172',\n",
       "    'match': False,\n",
       "    'name': 'Ms Diane Abbott',\n",
       "    'score': 77,\n",
       "    'type': [{'id': '/people/person', 'name': 'Person'}]}]}}"
      ]
     },
     "execution_count": 4,
     "metadata": {},
     "output_type": "execute_result"
    }
   ],
   "source": [
    "requests.get('http://reconcile_container:5000/reconcile?queries={\"q1\":{\"query\":\"Diana%20Abbot\"}}').json()"
   ]
  },
  {
   "cell_type": "code",
   "execution_count": 5,
   "metadata": {},
   "outputs": [
    {
     "data": {
      "text/plain": [
       "{'result': [{'id': '172',\n",
       "   'match': False,\n",
       "   'name': 'Ms Diane Abbott',\n",
       "   'score': 77,\n",
       "   'type': [{'id': '/people/person', 'name': 'Person'}]}]}"
      ]
     },
     "execution_count": 5,
     "metadata": {},
     "output_type": "execute_result"
    }
   ],
   "source": [
    "requests.get('http://reconcile_container:5000/reconcile?query=Diana%20Abbot').json()"
   ]
  },
  {
   "cell_type": "code",
   "execution_count": 9,
   "metadata": {},
   "outputs": [
    {
     "data": {
      "text/plain": [
       "{'result': [{'id': '172',\n",
       "   'match': False,\n",
       "   'name': 'Ms Diane Abbott',\n",
       "   'score': 77,\n",
       "   'type': [{'id': '/people/person', 'name': 'Person'}]}]}"
      ]
     },
     "execution_count": 9,
     "metadata": {},
     "output_type": "execute_result"
    }
   ],
   "source": [
    "requests.post('http://reconcile_container:5000/reconcile',data={\"query\":\"Diana Abbot\"}).json()"
   ]
  },
  {
   "cell_type": "code",
   "execution_count": 6,
   "metadata": {},
   "outputs": [
    {
     "data": {
      "text/plain": [
       "dict_items([])"
      ]
     },
     "execution_count": 6,
     "metadata": {},
     "output_type": "execute_result"
    }
   ],
   "source": [
    "orefine.list_projects().items()"
   ]
  },
  {
   "cell_type": "code",
   "execution_count": null,
   "metadata": {},
   "outputs": [],
   "source": []
  }
 ],
 "metadata": {
  "kernelspec": {
   "display_name": "Python 3",
   "language": "python",
   "name": "python3"
  },
  "language_info": {
   "codemirror_mode": {
    "name": "ipython",
    "version": 3
   },
   "file_extension": ".py",
   "mimetype": "text/x-python",
   "name": "python",
   "nbconvert_exporter": "python",
   "pygments_lexer": "ipython3",
   "version": "3.7.1"
  }
 },
 "nbformat": 4,
 "nbformat_minor": 2
}
