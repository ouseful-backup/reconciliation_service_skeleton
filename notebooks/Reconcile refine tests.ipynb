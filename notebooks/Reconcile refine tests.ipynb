{
 "cells": [
  {
   "cell_type": "code",
   "execution_count": 1,
   "metadata": {},
   "outputs": [
    {
     "name": "stdout",
     "output_type": "stream",
     "text": [
      "Collecting git+https://github.com/dbutlerdb/refine-client-py\n",
      "  Cloning https://github.com/dbutlerdb/refine-client-py to /tmp/pip-req-build-t185sbwb\n",
      "Requirement already satisfied (use --upgrade to upgrade): refine-client==0.2.1 from git+https://github.com/dbutlerdb/refine-client-py in /opt/conda/lib/python3.7/site-packages\n",
      "Requirement already satisfied: urllib2_file in /opt/conda/lib/python3.7/site-packages (from refine-client==0.2.1) (0.2.1)\n",
      "Building wheels for collected packages: refine-client\n",
      "  Running setup.py bdist_wheel for refine-client ... \u001b[?25ldone\n",
      "\u001b[?25h  Stored in directory: /tmp/pip-ephem-wheel-cache-051l0jhm/wheels/48/2b/a9/37bfb2a63534edebd1add71702b0750b0fa0cc87cac2ceffaa\n",
      "Successfully built refine-client\n"
     ]
    }
   ],
   "source": [
    "!pip install  git+https://github.com/dbutlerdb/refine-client-py"
   ]
  },
  {
   "cell_type": "code",
   "execution_count": 2,
   "metadata": {},
   "outputs": [],
   "source": [
    "from open.refine import refine\n",
    "\n",
    "#What is the distinction between these two?\n",
    "#Can we make use of it in a Jupyter context somehow?\n",
    "\n",
    "refine.REFINE_HOST='refine_container'\n",
    "refine.REFINE_PORT='3333'\n",
    "server = refine.RefineServer()\n",
    "orefine = refine.Refine(server)"
   ]
  },
  {
   "cell_type": "code",
   "execution_count": 3,
   "metadata": {},
   "outputs": [
    {
     "data": {
      "text/plain": [
       "{'defaultTypes': [{'id': '/people/person', 'name': 'Person'}],\n",
       " 'identifierSpace': 'http://rdf.freebase.com/ns/type.object.id',\n",
       " 'name': 'Person Reconciliation Service',\n",
       " 'schemaSpace': 'http://rdf.freebase.com/ns/type.object.id',\n",
       " 'view': {'url': 'http://127.0.0.1:8889{{id}}'}}"
      ]
     },
     "execution_count": 3,
     "metadata": {},
     "output_type": "execute_result"
    }
   ],
   "source": [
    "import requests\n",
    "requests.get('http://reconcile_container:5000/reconcile').json()"
   ]
  },
  {
   "cell_type": "code",
   "execution_count": 4,
   "metadata": {},
   "outputs": [
    {
     "data": {
      "text/plain": [
       "{'q1': {'result': [{'id': '172',\n",
       "    'match': False,\n",
       "    'name': 'Ms Diane Abbott',\n",
       "    'score': 77,\n",
       "    'type': [{'id': '/people/person', 'name': 'Person'}]}]}}"
      ]
     },
     "execution_count": 4,
     "metadata": {},
     "output_type": "execute_result"
    }
   ],
   "source": [
    "requests.get('http://reconcile_container:5000/reconcile?queries={\"q1\":{\"query\":\"Diana%20Abbot\"}}').json()"
   ]
  },
  {
   "cell_type": "code",
   "execution_count": 5,
   "metadata": {},
   "outputs": [
    {
     "data": {
      "text/plain": [
       "{'result': [{'id': '172',\n",
       "   'match': False,\n",
       "   'name': 'Ms Diane Abbott',\n",
       "   'score': 77,\n",
       "   'type': [{'id': '/people/person', 'name': 'Person'}]}]}"
      ]
     },
     "execution_count": 5,
     "metadata": {},
     "output_type": "execute_result"
    }
   ],
   "source": [
    "requests.get('http://reconcile_container:5000/reconcile?query=Diana%20Abbot').json()"
   ]
  },
  {
   "cell_type": "code",
   "execution_count": 19,
   "metadata": {},
   "outputs": [
    {
     "data": {
      "text/plain": [
       "{'result': [{'id': '172',\n",
       "   'match': False,\n",
       "   'name': 'Ms Diane Abbott',\n",
       "   'score': 85,\n",
       "   'type': [{'id': '/people/person', 'name': 'Person'}]}]}"
      ]
     },
     "execution_count": 19,
     "metadata": {},
     "output_type": "execute_result"
    }
   ],
   "source": [
    "requests.post('http://reconcile_container:5000/reconcile',data={'query':'Diane Abbot'}).json()"
   ]
  },
  {
   "cell_type": "code",
   "execution_count": 25,
   "metadata": {},
   "outputs": [],
   "source": [
    "#requests.post('http://reconcile_container:5000/reconcile',data={'queries':{\"q1\":{\"query\":\"Diana Abbot\"}}}).json()\n",
    "#There's an error with this"
   ]
  },
  {
   "cell_type": "code",
   "execution_count": 44,
   "metadata": {},
   "outputs": [
    {
     "data": {
      "text/plain": [
       "{'sheet': 'E06_UA',\n",
       " 'GEOGCD': 'E06000046',\n",
       " 'GEOGNM': 'Isle of Wight',\n",
       " 'GEOGNMW': None,\n",
       " 'OPER_DATE': '2009-01-01 00:00:00',\n",
       " 'TERM_DATE': None,\n",
       " 'STATUS': 'live',\n",
       " 'Entity code': 'E06',\n",
       " 'Entity name': 'Unitary Authorities',\n",
       " 'Entity abbreviation': 'UA',\n",
       " 'Entity theme': 'Administrative',\n",
       " 'Entity coverage': 'England',\n",
       " 'Related entity codes': 'n/a',\n",
       " 'Status': 'Current',\n",
       " 'Number of live instances': 56,\n",
       " 'Number of archived instances': 1,\n",
       " 'Number of cross-border instances': 0,\n",
       " 'Date of last instance change': '2013-04-01 00:00:00',\n",
       " 'Current code (first in range)': 'E06000001',\n",
       " 'Current code (last in range)': 'E06000057',\n",
       " 'Reserved code (for CHD use)': 'E06999999',\n",
       " 'Entity owner': 'DCLG',\n",
       " 'Date entity introduced on RGC': '2009-01-01 00:00:00',\n",
       " 'Entity start date': '2009-01-01 00:00:00',\n",
       " 'codeAbbrv': 'E06_UA'}"
      ]
     },
     "execution_count": 44,
     "metadata": {},
     "output_type": "execute_result"
    }
   ],
   "source": [
    "#Not reconciliation, but another service\n",
    "requests.get('http://refine_jupyter_recon:8895/ons/current/Isle%20of%20Wight').json()['codes'][0]\n"
   ]
  },
  {
   "cell_type": "code",
   "execution_count": 41,
   "metadata": {},
   "outputs": [
    {
     "data": {
      "text/plain": [
       "{'name': 'Person Reconciliation Service',\n",
       " 'identifierSpace': 'http://rdf.freebase.com/ns/type.object.id',\n",
       " 'schemaSpace': 'http://rdf.freebase.com/ns/type.object.id',\n",
       " 'view': {'url': 'http://127.0.0.1:8889{{id}}'},\n",
       " 'preview': {'url': 'http://127.0.0.1:8889{{id}}/preview',\n",
       "  'width': 430,\n",
       "  'height': 300},\n",
       " 'defaultTypes': [{'id': '/people/person', 'name': 'Person'}]}"
      ]
     },
     "execution_count": 41,
     "metadata": {},
     "output_type": "execute_result"
    }
   ],
   "source": [
    "#We need the trailing slash?\n",
    "requests.get('http://refine_jupyter_recon:8895/parliament/reconcile/').json()"
   ]
  },
  {
   "cell_type": "code",
   "execution_count": 43,
   "metadata": {},
   "outputs": [
    {
     "data": {
      "text/plain": [
       "{'reason': 'Not Found', 'message': ''}"
      ]
     },
     "execution_count": 43,
     "metadata": {},
     "output_type": "execute_result"
    }
   ],
   "source": [
    "#We need the trailing slash\n",
    "requests.get('http://refine_jupyter_recon:8895/parliament/reconcile/?queries={\"q1\":{\"query\":\"Diana Abbot\"}}').json()"
   ]
  },
  {
   "cell_type": "code",
   "execution_count": 7,
   "metadata": {},
   "outputs": [
    {
     "data": {
      "text/plain": [
       "dict_items([])"
      ]
     },
     "execution_count": 7,
     "metadata": {},
     "output_type": "execute_result"
    }
   ],
   "source": [
    "orefine.list_projects().items()"
   ]
  },
  {
   "cell_type": "code",
   "execution_count": null,
   "metadata": {},
   "outputs": [],
   "source": []
  }
 ],
 "metadata": {
  "kernelspec": {
   "display_name": "Python 3",
   "language": "python",
   "name": "python3"
  },
  "language_info": {
   "codemirror_mode": {
    "name": "ipython",
    "version": 3
   },
   "file_extension": ".py",
   "mimetype": "text/x-python",
   "name": "python",
   "nbconvert_exporter": "python",
   "pygments_lexer": "ipython3",
   "version": "3.7.1"
  }
 },
 "nbformat": 4,
 "nbformat_minor": 2
}
